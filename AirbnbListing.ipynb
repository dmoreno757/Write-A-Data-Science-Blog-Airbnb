{
 "cells": [
  {
   "cell_type": "markdown",
   "metadata": {},
   "source": [
    "## Business Understanding"
   ]
  },
  {
   "cell_type": "markdown",
   "metadata": {},
   "source": [
    "In this notebook we will look into the airbnb data, and see how users interact with listings in choosing\n",
    "### Question 1: Does Holidays affect Airbnb prices?\n",
    "### Question 2: Does property type affect the price for a listing?\n",
    "### Question 3: Does reviews cause which neighborhood will be rented out more?"
   ]
  },
  {
   "cell_type": "code",
   "execution_count": 1,
   "metadata": {},
   "outputs": [],
   "source": [
    "import pandas as pd\n",
    "import matplotlib.pyplot as plt\n",
    "import warnings\n",
    "warnings.filterwarnings('ignore')\n",
    "'''\n",
    "INPUT:\n",
    "dfCal = calender dataframe from the csv\n",
    "dfList = listing dataframe from the csv\n",
    "dfRev = Listing dataframe from the csv\n",
    "priceAVG = taking the average of the price with the date\n",
    "priceAVGList = taking the average price of the type of proberty\n",
    "priceAVGListNBH = Getting the average review with the type of neighborhoods\n",
    "\n",
    "OUTPUT:\n",
    "dfCalClean = After cleaning the data, a new dataframe is made for dfCal dataframe\n",
    "dfListClean = After cleaning the data, a new dataframe is made for dfList dataframe\n",
    "dfRevClean = After cleaning the data, a new dataframe is made for dfRev dataframe\n",
    "'''"
   ]
  },
  {
   "cell_type": "markdown",
   "metadata": {},
   "source": [
    "First I will import the data into DataFrames"
   ]
  },
  {
   "cell_type": "code",
   "execution_count": 2,
   "metadata": {},
   "outputs": [],
   "source": [
    "dfCal = pd.read_csv(r\"C:\\Users\\davim\\Desktop\\Data Science\\Project1\\archive\\calendar.csv\")\n",
    "dfList = pd.read_csv(r\"C:\\Users\\davim\\Desktop\\Data Science\\Project1\\archive\\listings.csv\")\n",
    "dfRev = pd.read_csv(r\"C:\\Users\\davim\\Desktop\\Data Science\\Project1\\archive\\reviews.csv\")"
   ]
  },
  {
   "cell_type": "markdown",
   "metadata": {},
   "source": [
    "Ill than check the data to see what needs to be done in cleaning our data, also ill be see how my dataset will be used in my processing"
   ]
  },
  {
   "cell_type": "markdown",
   "metadata": {},
   "source": [
    "# Data Understanding"
   ]
  },
  {
   "cell_type": "code",
   "execution_count": 3,
   "metadata": {},
   "outputs": [
    {
     "data": {
      "text/html": [
       "<div>\n",
       "<style scoped>\n",
       "    .dataframe tbody tr th:only-of-type {\n",
       "        vertical-align: middle;\n",
       "    }\n",
       "\n",
       "    .dataframe tbody tr th {\n",
       "        vertical-align: top;\n",
       "    }\n",
       "\n",
       "    .dataframe thead th {\n",
       "        text-align: right;\n",
       "    }\n",
       "</style>\n",
       "<table border=\"1\" class=\"dataframe\">\n",
       "  <thead>\n",
       "    <tr style=\"text-align: right;\">\n",
       "      <th></th>\n",
       "      <th>listing_id</th>\n",
       "      <th>date</th>\n",
       "      <th>available</th>\n",
       "      <th>price</th>\n",
       "    </tr>\n",
       "  </thead>\n",
       "  <tbody>\n",
       "    <tr>\n",
       "      <th>0</th>\n",
       "      <td>241032</td>\n",
       "      <td>2016-01-04</td>\n",
       "      <td>t</td>\n",
       "      <td>$85.00</td>\n",
       "    </tr>\n",
       "    <tr>\n",
       "      <th>1</th>\n",
       "      <td>241032</td>\n",
       "      <td>2016-01-05</td>\n",
       "      <td>t</td>\n",
       "      <td>$85.00</td>\n",
       "    </tr>\n",
       "    <tr>\n",
       "      <th>2</th>\n",
       "      <td>241032</td>\n",
       "      <td>2016-01-06</td>\n",
       "      <td>f</td>\n",
       "      <td>NaN</td>\n",
       "    </tr>\n",
       "    <tr>\n",
       "      <th>3</th>\n",
       "      <td>241032</td>\n",
       "      <td>2016-01-07</td>\n",
       "      <td>f</td>\n",
       "      <td>NaN</td>\n",
       "    </tr>\n",
       "    <tr>\n",
       "      <th>4</th>\n",
       "      <td>241032</td>\n",
       "      <td>2016-01-08</td>\n",
       "      <td>f</td>\n",
       "      <td>NaN</td>\n",
       "    </tr>\n",
       "  </tbody>\n",
       "</table>\n",
       "</div>"
      ],
      "text/plain": [
       "   listing_id        date available   price\n",
       "0      241032  2016-01-04         t  $85.00\n",
       "1      241032  2016-01-05         t  $85.00\n",
       "2      241032  2016-01-06         f     NaN\n",
       "3      241032  2016-01-07         f     NaN\n",
       "4      241032  2016-01-08         f     NaN"
      ]
     },
     "execution_count": 3,
     "metadata": {},
     "output_type": "execute_result"
    }
   ],
   "source": [
    "dfCal.head()"
   ]
  },
  {
   "cell_type": "code",
   "execution_count": 4,
   "metadata": {},
   "outputs": [
    {
     "data": {
      "text/html": [
       "<div>\n",
       "<style scoped>\n",
       "    .dataframe tbody tr th:only-of-type {\n",
       "        vertical-align: middle;\n",
       "    }\n",
       "\n",
       "    .dataframe tbody tr th {\n",
       "        vertical-align: top;\n",
       "    }\n",
       "\n",
       "    .dataframe thead th {\n",
       "        text-align: right;\n",
       "    }\n",
       "</style>\n",
       "<table border=\"1\" class=\"dataframe\">\n",
       "  <thead>\n",
       "    <tr style=\"text-align: right;\">\n",
       "      <th></th>\n",
       "      <th>id</th>\n",
       "      <th>listing_url</th>\n",
       "      <th>scrape_id</th>\n",
       "      <th>last_scraped</th>\n",
       "      <th>name</th>\n",
       "      <th>summary</th>\n",
       "      <th>space</th>\n",
       "      <th>description</th>\n",
       "      <th>experiences_offered</th>\n",
       "      <th>neighborhood_overview</th>\n",
       "      <th>...</th>\n",
       "      <th>review_scores_value</th>\n",
       "      <th>requires_license</th>\n",
       "      <th>license</th>\n",
       "      <th>jurisdiction_names</th>\n",
       "      <th>instant_bookable</th>\n",
       "      <th>cancellation_policy</th>\n",
       "      <th>require_guest_profile_picture</th>\n",
       "      <th>require_guest_phone_verification</th>\n",
       "      <th>calculated_host_listings_count</th>\n",
       "      <th>reviews_per_month</th>\n",
       "    </tr>\n",
       "  </thead>\n",
       "  <tbody>\n",
       "    <tr>\n",
       "      <th>0</th>\n",
       "      <td>241032</td>\n",
       "      <td>https://www.airbnb.com/rooms/241032</td>\n",
       "      <td>20160104002432</td>\n",
       "      <td>2016-01-04</td>\n",
       "      <td>Stylish Queen Anne Apartment</td>\n",
       "      <td>NaN</td>\n",
       "      <td>Make your self at home in this charming one-be...</td>\n",
       "      <td>Make your self at home in this charming one-be...</td>\n",
       "      <td>none</td>\n",
       "      <td>NaN</td>\n",
       "      <td>...</td>\n",
       "      <td>10.0</td>\n",
       "      <td>f</td>\n",
       "      <td>NaN</td>\n",
       "      <td>WASHINGTON</td>\n",
       "      <td>f</td>\n",
       "      <td>moderate</td>\n",
       "      <td>f</td>\n",
       "      <td>f</td>\n",
       "      <td>2</td>\n",
       "      <td>4.07</td>\n",
       "    </tr>\n",
       "    <tr>\n",
       "      <th>1</th>\n",
       "      <td>953595</td>\n",
       "      <td>https://www.airbnb.com/rooms/953595</td>\n",
       "      <td>20160104002432</td>\n",
       "      <td>2016-01-04</td>\n",
       "      <td>Bright &amp; Airy Queen Anne Apartment</td>\n",
       "      <td>Chemically sensitive? We've removed the irrita...</td>\n",
       "      <td>Beautiful, hypoallergenic apartment in an extr...</td>\n",
       "      <td>Chemically sensitive? We've removed the irrita...</td>\n",
       "      <td>none</td>\n",
       "      <td>Queen Anne is a wonderful, truly functional vi...</td>\n",
       "      <td>...</td>\n",
       "      <td>10.0</td>\n",
       "      <td>f</td>\n",
       "      <td>NaN</td>\n",
       "      <td>WASHINGTON</td>\n",
       "      <td>f</td>\n",
       "      <td>strict</td>\n",
       "      <td>t</td>\n",
       "      <td>t</td>\n",
       "      <td>6</td>\n",
       "      <td>1.48</td>\n",
       "    </tr>\n",
       "    <tr>\n",
       "      <th>2</th>\n",
       "      <td>3308979</td>\n",
       "      <td>https://www.airbnb.com/rooms/3308979</td>\n",
       "      <td>20160104002432</td>\n",
       "      <td>2016-01-04</td>\n",
       "      <td>New Modern House-Amazing water view</td>\n",
       "      <td>New modern house built in 2013.  Spectacular s...</td>\n",
       "      <td>Our house is modern, light and fresh with a wa...</td>\n",
       "      <td>New modern house built in 2013.  Spectacular s...</td>\n",
       "      <td>none</td>\n",
       "      <td>Upper Queen Anne is a charming neighborhood fu...</td>\n",
       "      <td>...</td>\n",
       "      <td>10.0</td>\n",
       "      <td>f</td>\n",
       "      <td>NaN</td>\n",
       "      <td>WASHINGTON</td>\n",
       "      <td>f</td>\n",
       "      <td>strict</td>\n",
       "      <td>f</td>\n",
       "      <td>f</td>\n",
       "      <td>2</td>\n",
       "      <td>1.15</td>\n",
       "    </tr>\n",
       "    <tr>\n",
       "      <th>3</th>\n",
       "      <td>7421966</td>\n",
       "      <td>https://www.airbnb.com/rooms/7421966</td>\n",
       "      <td>20160104002432</td>\n",
       "      <td>2016-01-04</td>\n",
       "      <td>Queen Anne Chateau</td>\n",
       "      <td>A charming apartment that sits atop Queen Anne...</td>\n",
       "      <td>NaN</td>\n",
       "      <td>A charming apartment that sits atop Queen Anne...</td>\n",
       "      <td>none</td>\n",
       "      <td>NaN</td>\n",
       "      <td>...</td>\n",
       "      <td>NaN</td>\n",
       "      <td>f</td>\n",
       "      <td>NaN</td>\n",
       "      <td>WASHINGTON</td>\n",
       "      <td>f</td>\n",
       "      <td>flexible</td>\n",
       "      <td>f</td>\n",
       "      <td>f</td>\n",
       "      <td>1</td>\n",
       "      <td>NaN</td>\n",
       "    </tr>\n",
       "    <tr>\n",
       "      <th>4</th>\n",
       "      <td>278830</td>\n",
       "      <td>https://www.airbnb.com/rooms/278830</td>\n",
       "      <td>20160104002432</td>\n",
       "      <td>2016-01-04</td>\n",
       "      <td>Charming craftsman 3 bdm house</td>\n",
       "      <td>Cozy family craftman house in beautiful neighb...</td>\n",
       "      <td>Cozy family craftman house in beautiful neighb...</td>\n",
       "      <td>Cozy family craftman house in beautiful neighb...</td>\n",
       "      <td>none</td>\n",
       "      <td>We are in the beautiful neighborhood of Queen ...</td>\n",
       "      <td>...</td>\n",
       "      <td>9.0</td>\n",
       "      <td>f</td>\n",
       "      <td>NaN</td>\n",
       "      <td>WASHINGTON</td>\n",
       "      <td>f</td>\n",
       "      <td>strict</td>\n",
       "      <td>f</td>\n",
       "      <td>f</td>\n",
       "      <td>1</td>\n",
       "      <td>0.89</td>\n",
       "    </tr>\n",
       "  </tbody>\n",
       "</table>\n",
       "<p>5 rows × 92 columns</p>\n",
       "</div>"
      ],
      "text/plain": [
       "        id                           listing_url       scrape_id last_scraped  \\\n",
       "0   241032   https://www.airbnb.com/rooms/241032  20160104002432   2016-01-04   \n",
       "1   953595   https://www.airbnb.com/rooms/953595  20160104002432   2016-01-04   \n",
       "2  3308979  https://www.airbnb.com/rooms/3308979  20160104002432   2016-01-04   \n",
       "3  7421966  https://www.airbnb.com/rooms/7421966  20160104002432   2016-01-04   \n",
       "4   278830   https://www.airbnb.com/rooms/278830  20160104002432   2016-01-04   \n",
       "\n",
       "                                  name  \\\n",
       "0         Stylish Queen Anne Apartment   \n",
       "1   Bright & Airy Queen Anne Apartment   \n",
       "2  New Modern House-Amazing water view   \n",
       "3                   Queen Anne Chateau   \n",
       "4       Charming craftsman 3 bdm house   \n",
       "\n",
       "                                             summary  \\\n",
       "0                                                NaN   \n",
       "1  Chemically sensitive? We've removed the irrita...   \n",
       "2  New modern house built in 2013.  Spectacular s...   \n",
       "3  A charming apartment that sits atop Queen Anne...   \n",
       "4  Cozy family craftman house in beautiful neighb...   \n",
       "\n",
       "                                               space  \\\n",
       "0  Make your self at home in this charming one-be...   \n",
       "1  Beautiful, hypoallergenic apartment in an extr...   \n",
       "2  Our house is modern, light and fresh with a wa...   \n",
       "3                                                NaN   \n",
       "4  Cozy family craftman house in beautiful neighb...   \n",
       "\n",
       "                                         description experiences_offered  \\\n",
       "0  Make your self at home in this charming one-be...                none   \n",
       "1  Chemically sensitive? We've removed the irrita...                none   \n",
       "2  New modern house built in 2013.  Spectacular s...                none   \n",
       "3  A charming apartment that sits atop Queen Anne...                none   \n",
       "4  Cozy family craftman house in beautiful neighb...                none   \n",
       "\n",
       "                               neighborhood_overview  ... review_scores_value  \\\n",
       "0                                                NaN  ...                10.0   \n",
       "1  Queen Anne is a wonderful, truly functional vi...  ...                10.0   \n",
       "2  Upper Queen Anne is a charming neighborhood fu...  ...                10.0   \n",
       "3                                                NaN  ...                 NaN   \n",
       "4  We are in the beautiful neighborhood of Queen ...  ...                 9.0   \n",
       "\n",
       "  requires_license license jurisdiction_names instant_bookable  \\\n",
       "0                f     NaN         WASHINGTON                f   \n",
       "1                f     NaN         WASHINGTON                f   \n",
       "2                f     NaN         WASHINGTON                f   \n",
       "3                f     NaN         WASHINGTON                f   \n",
       "4                f     NaN         WASHINGTON                f   \n",
       "\n",
       "  cancellation_policy  require_guest_profile_picture  \\\n",
       "0            moderate                              f   \n",
       "1              strict                              t   \n",
       "2              strict                              f   \n",
       "3            flexible                              f   \n",
       "4              strict                              f   \n",
       "\n",
       "  require_guest_phone_verification calculated_host_listings_count  \\\n",
       "0                                f                              2   \n",
       "1                                t                              6   \n",
       "2                                f                              2   \n",
       "3                                f                              1   \n",
       "4                                f                              1   \n",
       "\n",
       "  reviews_per_month  \n",
       "0              4.07  \n",
       "1              1.48  \n",
       "2              1.15  \n",
       "3               NaN  \n",
       "4              0.89  \n",
       "\n",
       "[5 rows x 92 columns]"
      ]
     },
     "execution_count": 4,
     "metadata": {},
     "output_type": "execute_result"
    }
   ],
   "source": [
    "dfList.head()"
   ]
  },
  {
   "cell_type": "code",
   "execution_count": 5,
   "metadata": {},
   "outputs": [
    {
     "data": {
      "text/html": [
       "<div>\n",
       "<style scoped>\n",
       "    .dataframe tbody tr th:only-of-type {\n",
       "        vertical-align: middle;\n",
       "    }\n",
       "\n",
       "    .dataframe tbody tr th {\n",
       "        vertical-align: top;\n",
       "    }\n",
       "\n",
       "    .dataframe thead th {\n",
       "        text-align: right;\n",
       "    }\n",
       "</style>\n",
       "<table border=\"1\" class=\"dataframe\">\n",
       "  <thead>\n",
       "    <tr style=\"text-align: right;\">\n",
       "      <th></th>\n",
       "      <th>listing_id</th>\n",
       "      <th>id</th>\n",
       "      <th>date</th>\n",
       "      <th>reviewer_id</th>\n",
       "      <th>reviewer_name</th>\n",
       "      <th>comments</th>\n",
       "    </tr>\n",
       "  </thead>\n",
       "  <tbody>\n",
       "    <tr>\n",
       "      <th>0</th>\n",
       "      <td>7202016</td>\n",
       "      <td>38917982</td>\n",
       "      <td>2015-07-19</td>\n",
       "      <td>28943674</td>\n",
       "      <td>Bianca</td>\n",
       "      <td>Cute and cozy place. Perfect location to every...</td>\n",
       "    </tr>\n",
       "    <tr>\n",
       "      <th>1</th>\n",
       "      <td>7202016</td>\n",
       "      <td>39087409</td>\n",
       "      <td>2015-07-20</td>\n",
       "      <td>32440555</td>\n",
       "      <td>Frank</td>\n",
       "      <td>Kelly has a great room in a very central locat...</td>\n",
       "    </tr>\n",
       "    <tr>\n",
       "      <th>2</th>\n",
       "      <td>7202016</td>\n",
       "      <td>39820030</td>\n",
       "      <td>2015-07-26</td>\n",
       "      <td>37722850</td>\n",
       "      <td>Ian</td>\n",
       "      <td>Very spacious apartment, and in a great neighb...</td>\n",
       "    </tr>\n",
       "    <tr>\n",
       "      <th>3</th>\n",
       "      <td>7202016</td>\n",
       "      <td>40813543</td>\n",
       "      <td>2015-08-02</td>\n",
       "      <td>33671805</td>\n",
       "      <td>George</td>\n",
       "      <td>Close to Seattle Center and all it has to offe...</td>\n",
       "    </tr>\n",
       "    <tr>\n",
       "      <th>4</th>\n",
       "      <td>7202016</td>\n",
       "      <td>41986501</td>\n",
       "      <td>2015-08-10</td>\n",
       "      <td>34959538</td>\n",
       "      <td>Ming</td>\n",
       "      <td>Kelly was a great host and very accommodating ...</td>\n",
       "    </tr>\n",
       "  </tbody>\n",
       "</table>\n",
       "</div>"
      ],
      "text/plain": [
       "   listing_id        id        date  reviewer_id reviewer_name  \\\n",
       "0     7202016  38917982  2015-07-19     28943674        Bianca   \n",
       "1     7202016  39087409  2015-07-20     32440555         Frank   \n",
       "2     7202016  39820030  2015-07-26     37722850           Ian   \n",
       "3     7202016  40813543  2015-08-02     33671805        George   \n",
       "4     7202016  41986501  2015-08-10     34959538          Ming   \n",
       "\n",
       "                                            comments  \n",
       "0  Cute and cozy place. Perfect location to every...  \n",
       "1  Kelly has a great room in a very central locat...  \n",
       "2  Very spacious apartment, and in a great neighb...  \n",
       "3  Close to Seattle Center and all it has to offe...  \n",
       "4  Kelly was a great host and very accommodating ...  "
      ]
     },
     "execution_count": 5,
     "metadata": {},
     "output_type": "execute_result"
    }
   ],
   "source": [
    "dfRev.head()"
   ]
  },
  {
   "cell_type": "markdown",
   "metadata": {},
   "source": [
    "# Data Preparation"
   ]
  },
  {
   "cell_type": "markdown",
   "metadata": {},
   "source": [
    "Here Ill be cleaning up the data that I see is any results are empty, I will replace the empty value to a common value showing its empty in rows or in certain columns"
   ]
  },
  {
   "cell_type": "code",
   "execution_count": 6,
   "metadata": {},
   "outputs": [
    {
     "data": {
      "text/plain": [
       "listing_id    False\n",
       "date          False\n",
       "available     False\n",
       "price          True\n",
       "dtype: bool"
      ]
     },
     "execution_count": 6,
     "metadata": {},
     "output_type": "execute_result"
    }
   ],
   "source": [
    "dfCal.isna().any()"
   ]
  },
  {
   "cell_type": "code",
   "execution_count": 7,
   "metadata": {},
   "outputs": [
    {
     "data": {
      "text/plain": [
       "id                                  False\n",
       "listing_url                         False\n",
       "scrape_id                           False\n",
       "last_scraped                        False\n",
       "name                                False\n",
       "                                    ...  \n",
       "cancellation_policy                 False\n",
       "require_guest_profile_picture       False\n",
       "require_guest_phone_verification    False\n",
       "calculated_host_listings_count      False\n",
       "reviews_per_month                    True\n",
       "Length: 92, dtype: bool"
      ]
     },
     "execution_count": 7,
     "metadata": {},
     "output_type": "execute_result"
    }
   ],
   "source": [
    "dfList.isna().any()"
   ]
  },
  {
   "cell_type": "code",
   "execution_count": 8,
   "metadata": {},
   "outputs": [
    {
     "data": {
      "text/plain": [
       "listing_id       False\n",
       "id               False\n",
       "date             False\n",
       "reviewer_id      False\n",
       "reviewer_name    False\n",
       "comments          True\n",
       "dtype: bool"
      ]
     },
     "execution_count": 8,
     "metadata": {},
     "output_type": "execute_result"
    }
   ],
   "source": [
    "dfRev.isna().any()"
   ]
  },
  {
   "cell_type": "markdown",
   "metadata": {},
   "source": [
    "For dfCalClean im using .dropna() which removes missing values. dfCalClean im also using .dropna(). Finally for dfListClean, im looking at the columns which have values missing. I use .dropna() to remove missing values that will cause problems in the analysis."
   ]
  },
  {
   "cell_type": "code",
   "execution_count": 9,
   "metadata": {},
   "outputs": [],
   "source": [
    "dfCalClean = dfCal.dropna()"
   ]
  },
  {
   "cell_type": "code",
   "execution_count": 10,
   "metadata": {},
   "outputs": [],
   "source": [
    "dfListClean = dfList.dropna(subset=['jurisdiction_names', 'reviews_per_month'])"
   ]
  },
  {
   "cell_type": "code",
   "execution_count": 11,
   "metadata": {},
   "outputs": [],
   "source": [
    "dfRevClean = dfRev.dropna()"
   ]
  },
  {
   "cell_type": "markdown",
   "metadata": {},
   "source": [
    "### Analyze the clean data"
   ]
  },
  {
   "cell_type": "markdown",
   "metadata": {},
   "source": [
    "Here I will check my clean data again and see what else I need to do before I process it and set up a plot for my analyzes."
   ]
  },
  {
   "cell_type": "code",
   "execution_count": 12,
   "metadata": {},
   "outputs": [
    {
     "name": "stdout",
     "output_type": "stream",
     "text": [
      "<class 'pandas.core.frame.DataFrame'>\n",
      "Int64Index: 934542 entries, 0 to 1393213\n",
      "Data columns (total 4 columns):\n",
      " #   Column      Non-Null Count   Dtype \n",
      "---  ------      --------------   ----- \n",
      " 0   listing_id  934542 non-null  int64 \n",
      " 1   date        934542 non-null  object\n",
      " 2   available   934542 non-null  object\n",
      " 3   price       934542 non-null  object\n",
      "dtypes: int64(1), object(3)\n",
      "memory usage: 35.6+ MB\n"
     ]
    }
   ],
   "source": [
    "dfCalClean.info()"
   ]
  },
  {
   "cell_type": "code",
   "execution_count": 13,
   "metadata": {},
   "outputs": [
    {
     "data": {
      "text/html": [
       "<div>\n",
       "<style scoped>\n",
       "    .dataframe tbody tr th:only-of-type {\n",
       "        vertical-align: middle;\n",
       "    }\n",
       "\n",
       "    .dataframe tbody tr th {\n",
       "        vertical-align: top;\n",
       "    }\n",
       "\n",
       "    .dataframe thead th {\n",
       "        text-align: right;\n",
       "    }\n",
       "</style>\n",
       "<table border=\"1\" class=\"dataframe\">\n",
       "  <thead>\n",
       "    <tr style=\"text-align: right;\">\n",
       "      <th></th>\n",
       "      <th>listing_id</th>\n",
       "      <th>date</th>\n",
       "      <th>available</th>\n",
       "      <th>price</th>\n",
       "    </tr>\n",
       "  </thead>\n",
       "  <tbody>\n",
       "    <tr>\n",
       "      <th>1246315</th>\n",
       "      <td>2762241</td>\n",
       "      <td>2016-07-27</td>\n",
       "      <td>t</td>\n",
       "      <td>$100.00</td>\n",
       "    </tr>\n",
       "    <tr>\n",
       "      <th>251006</th>\n",
       "      <td>2931922</td>\n",
       "      <td>2016-09-11</td>\n",
       "      <td>t</td>\n",
       "      <td>$145.00</td>\n",
       "    </tr>\n",
       "    <tr>\n",
       "      <th>1271265</th>\n",
       "      <td>9508837</td>\n",
       "      <td>2016-12-04</td>\n",
       "      <td>t</td>\n",
       "      <td>$99.00</td>\n",
       "    </tr>\n",
       "    <tr>\n",
       "      <th>434351</th>\n",
       "      <td>6959336</td>\n",
       "      <td>2016-01-05</td>\n",
       "      <td>t</td>\n",
       "      <td>$129.00</td>\n",
       "    </tr>\n",
       "    <tr>\n",
       "      <th>479</th>\n",
       "      <td>953595</td>\n",
       "      <td>2016-04-27</td>\n",
       "      <td>t</td>\n",
       "      <td>$151.00</td>\n",
       "    </tr>\n",
       "  </tbody>\n",
       "</table>\n",
       "</div>"
      ],
      "text/plain": [
       "         listing_id        date available    price\n",
       "1246315     2762241  2016-07-27         t  $100.00\n",
       "251006      2931922  2016-09-11         t  $145.00\n",
       "1271265     9508837  2016-12-04         t   $99.00\n",
       "434351      6959336  2016-01-05         t  $129.00\n",
       "479          953595  2016-04-27         t  $151.00"
      ]
     },
     "execution_count": 13,
     "metadata": {},
     "output_type": "execute_result"
    }
   ],
   "source": [
    "dfCalClean.sample(5)"
   ]
  },
  {
   "cell_type": "code",
   "execution_count": 14,
   "metadata": {},
   "outputs": [
    {
     "name": "stdout",
     "output_type": "stream",
     "text": [
      "<class 'pandas.core.frame.DataFrame'>\n",
      "Int64Index: 3191 entries, 0 to 3814\n",
      "Data columns (total 92 columns):\n",
      " #   Column                            Non-Null Count  Dtype  \n",
      "---  ------                            --------------  -----  \n",
      " 0   id                                3191 non-null   int64  \n",
      " 1   listing_url                       3191 non-null   object \n",
      " 2   scrape_id                         3191 non-null   int64  \n",
      " 3   last_scraped                      3191 non-null   object \n",
      " 4   name                              3191 non-null   object \n",
      " 5   summary                           3023 non-null   object \n",
      " 6   space                             2858 non-null   object \n",
      " 7   description                       3191 non-null   object \n",
      " 8   experiences_offered               3191 non-null   object \n",
      " 9   neighborhood_overview             2445 non-null   object \n",
      " 10  notes                             1990 non-null   object \n",
      " 11  transit                           2537 non-null   object \n",
      " 12  thumbnail_url                     2930 non-null   object \n",
      " 13  medium_url                        2930 non-null   object \n",
      " 14  picture_url                       3191 non-null   object \n",
      " 15  xl_picture_url                    2930 non-null   object \n",
      " 16  host_id                           3191 non-null   int64  \n",
      " 17  host_url                          3191 non-null   object \n",
      " 18  host_name                         3191 non-null   object \n",
      " 19  host_since                        3191 non-null   object \n",
      " 20  host_location                     3191 non-null   object \n",
      " 21  host_about                        2608 non-null   object \n",
      " 22  host_response_time                2871 non-null   object \n",
      " 23  host_response_rate                2871 non-null   object \n",
      " 24  host_acceptance_rate              2705 non-null   object \n",
      " 25  host_is_superhost                 3191 non-null   object \n",
      " 26  host_thumbnail_url                3191 non-null   object \n",
      " 27  host_picture_url                  3191 non-null   object \n",
      " 28  host_neighbourhood                2986 non-null   object \n",
      " 29  host_listings_count               3191 non-null   float64\n",
      " 30  host_total_listings_count         3191 non-null   float64\n",
      " 31  host_verifications                3191 non-null   object \n",
      " 32  host_has_profile_pic              3191 non-null   object \n",
      " 33  host_identity_verified            3191 non-null   object \n",
      " 34  street                            3191 non-null   object \n",
      " 35  neighbourhood                     2882 non-null   object \n",
      " 36  neighbourhood_cleansed            3191 non-null   object \n",
      " 37  neighbourhood_group_cleansed      3191 non-null   object \n",
      " 38  city                              3191 non-null   object \n",
      " 39  state                             3191 non-null   object \n",
      " 40  zipcode                           3185 non-null   object \n",
      " 41  market                            3191 non-null   object \n",
      " 42  smart_location                    3191 non-null   object \n",
      " 43  country_code                      3191 non-null   object \n",
      " 44  country                           3191 non-null   object \n",
      " 45  latitude                          3191 non-null   float64\n",
      " 46  longitude                         3191 non-null   float64\n",
      " 47  is_location_exact                 3191 non-null   object \n",
      " 48  property_type                     3191 non-null   object \n",
      " 49  room_type                         3191 non-null   object \n",
      " 50  accommodates                      3191 non-null   int64  \n",
      " 51  bathrooms                         3179 non-null   float64\n",
      " 52  bedrooms                          3185 non-null   float64\n",
      " 53  beds                              3191 non-null   float64\n",
      " 54  bed_type                          3191 non-null   object \n",
      " 55  amenities                         3191 non-null   object \n",
      " 56  square_feet                       92 non-null     float64\n",
      " 57  price                             3191 non-null   object \n",
      " 58  weekly_price                      1800 non-null   object \n",
      " 59  monthly_price                     1361 non-null   object \n",
      " 60  security_deposit                  1616 non-null   object \n",
      " 61  cleaning_fee                      2423 non-null   object \n",
      " 62  guests_included                   3191 non-null   int64  \n",
      " 63  extra_people                      3191 non-null   object \n",
      " 64  minimum_nights                    3191 non-null   int64  \n",
      " 65  maximum_nights                    3191 non-null   int64  \n",
      " 66  calendar_updated                  3191 non-null   object \n",
      " 67  has_availability                  3191 non-null   object \n",
      " 68  availability_30                   3191 non-null   int64  \n",
      " 69  availability_60                   3191 non-null   int64  \n",
      " 70  availability_90                   3191 non-null   int64  \n",
      " 71  availability_365                  3191 non-null   int64  \n",
      " 72  calendar_last_scraped             3191 non-null   object \n",
      " 73  number_of_reviews                 3191 non-null   int64  \n",
      " 74  first_review                      3191 non-null   object \n",
      " 75  last_review                       3191 non-null   object \n",
      " 76  review_scores_rating              3171 non-null   float64\n",
      " 77  review_scores_accuracy            3160 non-null   float64\n",
      " 78  review_scores_cleanliness         3165 non-null   float64\n",
      " 79  review_scores_checkin             3160 non-null   float64\n",
      " 80  review_scores_communication       3167 non-null   float64\n",
      " 81  review_scores_location            3163 non-null   float64\n",
      " 82  review_scores_value               3162 non-null   float64\n",
      " 83  requires_license                  3191 non-null   object \n",
      " 84  license                           0 non-null      float64\n",
      " 85  jurisdiction_names                3191 non-null   object \n",
      " 86  instant_bookable                  3191 non-null   object \n",
      " 87  cancellation_policy               3191 non-null   object \n",
      " 88  require_guest_profile_picture     3191 non-null   object \n",
      " 89  require_guest_phone_verification  3191 non-null   object \n",
      " 90  calculated_host_listings_count    3191 non-null   int64  \n",
      " 91  reviews_per_month                 3191 non-null   float64\n",
      "dtypes: float64(17), int64(13), object(62)\n",
      "memory usage: 2.3+ MB\n"
     ]
    }
   ],
   "source": [
    "dfListClean.info()"
   ]
  },
  {
   "cell_type": "code",
   "execution_count": 15,
   "metadata": {},
   "outputs": [
    {
     "data": {
      "text/html": [
       "<div>\n",
       "<style scoped>\n",
       "    .dataframe tbody tr th:only-of-type {\n",
       "        vertical-align: middle;\n",
       "    }\n",
       "\n",
       "    .dataframe tbody tr th {\n",
       "        vertical-align: top;\n",
       "    }\n",
       "\n",
       "    .dataframe thead th {\n",
       "        text-align: right;\n",
       "    }\n",
       "</style>\n",
       "<table border=\"1\" class=\"dataframe\">\n",
       "  <thead>\n",
       "    <tr style=\"text-align: right;\">\n",
       "      <th></th>\n",
       "      <th>id</th>\n",
       "      <th>listing_url</th>\n",
       "      <th>scrape_id</th>\n",
       "      <th>last_scraped</th>\n",
       "      <th>name</th>\n",
       "      <th>summary</th>\n",
       "      <th>space</th>\n",
       "      <th>description</th>\n",
       "      <th>experiences_offered</th>\n",
       "      <th>neighborhood_overview</th>\n",
       "      <th>...</th>\n",
       "      <th>review_scores_value</th>\n",
       "      <th>requires_license</th>\n",
       "      <th>license</th>\n",
       "      <th>jurisdiction_names</th>\n",
       "      <th>instant_bookable</th>\n",
       "      <th>cancellation_policy</th>\n",
       "      <th>require_guest_profile_picture</th>\n",
       "      <th>require_guest_phone_verification</th>\n",
       "      <th>calculated_host_listings_count</th>\n",
       "      <th>reviews_per_month</th>\n",
       "    </tr>\n",
       "  </thead>\n",
       "  <tbody>\n",
       "    <tr>\n",
       "      <th>2510</th>\n",
       "      <td>3206305</td>\n",
       "      <td>https://www.airbnb.com/rooms/3206305</td>\n",
       "      <td>20160104002432</td>\n",
       "      <td>2016-01-04</td>\n",
       "      <td>West Seattle Greenbelt Garden Oasis</td>\n",
       "      <td>A light filled private apartment, with windows...</td>\n",
       "      <td>INSIDE • Secure &amp; private with separate entran...</td>\n",
       "      <td>A light filled private apartment, with windows...</td>\n",
       "      <td>none</td>\n",
       "      <td>We're located in West Seattle on a quiet resid...</td>\n",
       "      <td>...</td>\n",
       "      <td>9.0</td>\n",
       "      <td>f</td>\n",
       "      <td>NaN</td>\n",
       "      <td>WASHINGTON</td>\n",
       "      <td>f</td>\n",
       "      <td>moderate</td>\n",
       "      <td>f</td>\n",
       "      <td>f</td>\n",
       "      <td>1</td>\n",
       "      <td>3.04</td>\n",
       "    </tr>\n",
       "    <tr>\n",
       "      <th>1909</th>\n",
       "      <td>4121334</td>\n",
       "      <td>https://www.airbnb.com/rooms/4121334</td>\n",
       "      <td>20160104002432</td>\n",
       "      <td>2016-01-04</td>\n",
       "      <td>Dog-friendly 2BR townhome w/ patio!</td>\n",
       "      <td>Just steps from the main street in West Seattl...</td>\n",
       "      <td>2BR, 1.5 BA townhome that offers a private ret...</td>\n",
       "      <td>Just steps from the main street in West Seattl...</td>\n",
       "      <td>none</td>\n",
       "      <td>West Seattle is quieter and offers a more rela...</td>\n",
       "      <td>...</td>\n",
       "      <td>9.0</td>\n",
       "      <td>f</td>\n",
       "      <td>NaN</td>\n",
       "      <td>WASHINGTON</td>\n",
       "      <td>f</td>\n",
       "      <td>moderate</td>\n",
       "      <td>f</td>\n",
       "      <td>f</td>\n",
       "      <td>1</td>\n",
       "      <td>1.06</td>\n",
       "    </tr>\n",
       "    <tr>\n",
       "      <th>2122</th>\n",
       "      <td>6561379</td>\n",
       "      <td>https://www.airbnb.com/rooms/6561379</td>\n",
       "      <td>20160104002432</td>\n",
       "      <td>2016-01-04</td>\n",
       "      <td>Beacon Hill 2br with Park Views</td>\n",
       "      <td>Right across the street from Jefferson Park in...</td>\n",
       "      <td>This 1953 rambler-style house is a great home ...</td>\n",
       "      <td>Right across the street from Jefferson Park in...</td>\n",
       "      <td>none</td>\n",
       "      <td>The neighborhood is safe with plenty of family...</td>\n",
       "      <td>...</td>\n",
       "      <td>10.0</td>\n",
       "      <td>f</td>\n",
       "      <td>NaN</td>\n",
       "      <td>WASHINGTON</td>\n",
       "      <td>f</td>\n",
       "      <td>moderate</td>\n",
       "      <td>f</td>\n",
       "      <td>f</td>\n",
       "      <td>2</td>\n",
       "      <td>2.26</td>\n",
       "    </tr>\n",
       "    <tr>\n",
       "      <th>841</th>\n",
       "      <td>9216874</td>\n",
       "      <td>https://www.airbnb.com/rooms/9216874</td>\n",
       "      <td>20160104002432</td>\n",
       "      <td>2016-01-04</td>\n",
       "      <td>Modern Central District Townhouse</td>\n",
       "      <td>Our 2-bed, 1.5-bath townhouse comfortably slee...</td>\n",
       "      <td>We're in an ideal location in Seattle's Centra...</td>\n",
       "      <td>Our 2-bed, 1.5-bath townhouse comfortably slee...</td>\n",
       "      <td>none</td>\n",
       "      <td>The Central District is a vibrant, diverse nei...</td>\n",
       "      <td>...</td>\n",
       "      <td>10.0</td>\n",
       "      <td>f</td>\n",
       "      <td>NaN</td>\n",
       "      <td>WASHINGTON</td>\n",
       "      <td>f</td>\n",
       "      <td>strict</td>\n",
       "      <td>f</td>\n",
       "      <td>f</td>\n",
       "      <td>1</td>\n",
       "      <td>0.98</td>\n",
       "    </tr>\n",
       "    <tr>\n",
       "      <th>2838</th>\n",
       "      <td>2628010</td>\n",
       "      <td>https://www.airbnb.com/rooms/2628010</td>\n",
       "      <td>20160104002432</td>\n",
       "      <td>2016-01-04</td>\n",
       "      <td>Huge 2 BR/2 Bath-Heart of Cap Hill</td>\n",
       "      <td>Amazing 2 Bedroom, 2 Bathroom Apartment on Cap...</td>\n",
       "      <td>2 huge bedrooms Both bedrooms have queen size ...</td>\n",
       "      <td>Amazing 2 Bedroom, 2 Bathroom Apartment on Cap...</td>\n",
       "      <td>none</td>\n",
       "      <td>Capitol Hill is a fantastic neighborhood in Se...</td>\n",
       "      <td>...</td>\n",
       "      <td>9.0</td>\n",
       "      <td>f</td>\n",
       "      <td>NaN</td>\n",
       "      <td>WASHINGTON</td>\n",
       "      <td>t</td>\n",
       "      <td>strict</td>\n",
       "      <td>f</td>\n",
       "      <td>f</td>\n",
       "      <td>1</td>\n",
       "      <td>1.48</td>\n",
       "    </tr>\n",
       "  </tbody>\n",
       "</table>\n",
       "<p>5 rows × 92 columns</p>\n",
       "</div>"
      ],
      "text/plain": [
       "           id                           listing_url       scrape_id  \\\n",
       "2510  3206305  https://www.airbnb.com/rooms/3206305  20160104002432   \n",
       "1909  4121334  https://www.airbnb.com/rooms/4121334  20160104002432   \n",
       "2122  6561379  https://www.airbnb.com/rooms/6561379  20160104002432   \n",
       "841   9216874  https://www.airbnb.com/rooms/9216874  20160104002432   \n",
       "2838  2628010  https://www.airbnb.com/rooms/2628010  20160104002432   \n",
       "\n",
       "     last_scraped                                 name  \\\n",
       "2510   2016-01-04  West Seattle Greenbelt Garden Oasis   \n",
       "1909   2016-01-04  Dog-friendly 2BR townhome w/ patio!   \n",
       "2122   2016-01-04      Beacon Hill 2br with Park Views   \n",
       "841    2016-01-04    Modern Central District Townhouse   \n",
       "2838   2016-01-04  Huge 2 BR/2 Bath-Heart of Cap Hill    \n",
       "\n",
       "                                                summary  \\\n",
       "2510  A light filled private apartment, with windows...   \n",
       "1909  Just steps from the main street in West Seattl...   \n",
       "2122  Right across the street from Jefferson Park in...   \n",
       "841   Our 2-bed, 1.5-bath townhouse comfortably slee...   \n",
       "2838  Amazing 2 Bedroom, 2 Bathroom Apartment on Cap...   \n",
       "\n",
       "                                                  space  \\\n",
       "2510  INSIDE • Secure & private with separate entran...   \n",
       "1909  2BR, 1.5 BA townhome that offers a private ret...   \n",
       "2122  This 1953 rambler-style house is a great home ...   \n",
       "841   We're in an ideal location in Seattle's Centra...   \n",
       "2838  2 huge bedrooms Both bedrooms have queen size ...   \n",
       "\n",
       "                                            description experiences_offered  \\\n",
       "2510  A light filled private apartment, with windows...                none   \n",
       "1909  Just steps from the main street in West Seattl...                none   \n",
       "2122  Right across the street from Jefferson Park in...                none   \n",
       "841   Our 2-bed, 1.5-bath townhouse comfortably slee...                none   \n",
       "2838  Amazing 2 Bedroom, 2 Bathroom Apartment on Cap...                none   \n",
       "\n",
       "                                  neighborhood_overview  ...  \\\n",
       "2510  We're located in West Seattle on a quiet resid...  ...   \n",
       "1909  West Seattle is quieter and offers a more rela...  ...   \n",
       "2122  The neighborhood is safe with plenty of family...  ...   \n",
       "841   The Central District is a vibrant, diverse nei...  ...   \n",
       "2838  Capitol Hill is a fantastic neighborhood in Se...  ...   \n",
       "\n",
       "     review_scores_value requires_license license jurisdiction_names  \\\n",
       "2510                 9.0                f     NaN         WASHINGTON   \n",
       "1909                 9.0                f     NaN         WASHINGTON   \n",
       "2122                10.0                f     NaN         WASHINGTON   \n",
       "841                 10.0                f     NaN         WASHINGTON   \n",
       "2838                 9.0                f     NaN         WASHINGTON   \n",
       "\n",
       "     instant_bookable cancellation_policy  require_guest_profile_picture  \\\n",
       "2510                f            moderate                              f   \n",
       "1909                f            moderate                              f   \n",
       "2122                f            moderate                              f   \n",
       "841                 f              strict                              f   \n",
       "2838                t              strict                              f   \n",
       "\n",
       "     require_guest_phone_verification calculated_host_listings_count  \\\n",
       "2510                                f                              1   \n",
       "1909                                f                              1   \n",
       "2122                                f                              2   \n",
       "841                                 f                              1   \n",
       "2838                                f                              1   \n",
       "\n",
       "     reviews_per_month  \n",
       "2510              3.04  \n",
       "1909              1.06  \n",
       "2122              2.26  \n",
       "841               0.98  \n",
       "2838              1.48  \n",
       "\n",
       "[5 rows x 92 columns]"
      ]
     },
     "execution_count": 15,
     "metadata": {},
     "output_type": "execute_result"
    }
   ],
   "source": [
    "dfListClean.sample(5)"
   ]
  },
  {
   "cell_type": "code",
   "execution_count": 16,
   "metadata": {},
   "outputs": [
    {
     "name": "stdout",
     "output_type": "stream",
     "text": [
      "<class 'pandas.core.frame.DataFrame'>\n",
      "Int64Index: 84831 entries, 0 to 84848\n",
      "Data columns (total 6 columns):\n",
      " #   Column         Non-Null Count  Dtype \n",
      "---  ------         --------------  ----- \n",
      " 0   listing_id     84831 non-null  int64 \n",
      " 1   id             84831 non-null  int64 \n",
      " 2   date           84831 non-null  object\n",
      " 3   reviewer_id    84831 non-null  int64 \n",
      " 4   reviewer_name  84831 non-null  object\n",
      " 5   comments       84831 non-null  object\n",
      "dtypes: int64(3), object(3)\n",
      "memory usage: 4.5+ MB\n"
     ]
    }
   ],
   "source": [
    "dfRevClean.info()"
   ]
  },
  {
   "cell_type": "code",
   "execution_count": 17,
   "metadata": {},
   "outputs": [
    {
     "data": {
      "text/html": [
       "<div>\n",
       "<style scoped>\n",
       "    .dataframe tbody tr th:only-of-type {\n",
       "        vertical-align: middle;\n",
       "    }\n",
       "\n",
       "    .dataframe tbody tr th {\n",
       "        vertical-align: top;\n",
       "    }\n",
       "\n",
       "    .dataframe thead th {\n",
       "        text-align: right;\n",
       "    }\n",
       "</style>\n",
       "<table border=\"1\" class=\"dataframe\">\n",
       "  <thead>\n",
       "    <tr style=\"text-align: right;\">\n",
       "      <th></th>\n",
       "      <th>listing_id</th>\n",
       "      <th>id</th>\n",
       "      <th>date</th>\n",
       "      <th>reviewer_id</th>\n",
       "      <th>reviewer_name</th>\n",
       "      <th>comments</th>\n",
       "    </tr>\n",
       "  </thead>\n",
       "  <tbody>\n",
       "    <tr>\n",
       "      <th>26068</th>\n",
       "      <td>1097520</td>\n",
       "      <td>7039595</td>\n",
       "      <td>2013-09-04</td>\n",
       "      <td>6396499</td>\n",
       "      <td>Justin</td>\n",
       "      <td>Jeanie is awesome and her place is incredibly ...</td>\n",
       "    </tr>\n",
       "    <tr>\n",
       "      <th>61007</th>\n",
       "      <td>231097</td>\n",
       "      <td>16370401</td>\n",
       "      <td>2014-07-26</td>\n",
       "      <td>93252</td>\n",
       "      <td>Laurie With Husband, Steve</td>\n",
       "      <td>We thoroughly enjoyed Paul And Terry's beautif...</td>\n",
       "    </tr>\n",
       "    <tr>\n",
       "      <th>82222</th>\n",
       "      <td>80188</td>\n",
       "      <td>34539608</td>\n",
       "      <td>2015-06-09</td>\n",
       "      <td>28262156</td>\n",
       "      <td>Tim</td>\n",
       "      <td>My family came to visit me so I booked them a ...</td>\n",
       "    </tr>\n",
       "    <tr>\n",
       "      <th>75803</th>\n",
       "      <td>799882</td>\n",
       "      <td>10662668</td>\n",
       "      <td>2014-03-02</td>\n",
       "      <td>11887542</td>\n",
       "      <td>Stephen</td>\n",
       "      <td>I stayed with Lisa for around 3 weeks. She was...</td>\n",
       "    </tr>\n",
       "    <tr>\n",
       "      <th>46139</th>\n",
       "      <td>557126</td>\n",
       "      <td>8111505</td>\n",
       "      <td>2013-10-16</td>\n",
       "      <td>7362361</td>\n",
       "      <td>Jenny</td>\n",
       "      <td>Chad and Ruben were fabulous hosts.  The room ...</td>\n",
       "    </tr>\n",
       "  </tbody>\n",
       "</table>\n",
       "</div>"
      ],
      "text/plain": [
       "       listing_id        id        date  reviewer_id  \\\n",
       "26068     1097520   7039595  2013-09-04      6396499   \n",
       "61007      231097  16370401  2014-07-26        93252   \n",
       "82222       80188  34539608  2015-06-09     28262156   \n",
       "75803      799882  10662668  2014-03-02     11887542   \n",
       "46139      557126   8111505  2013-10-16      7362361   \n",
       "\n",
       "                    reviewer_name  \\\n",
       "26068                      Justin   \n",
       "61007  Laurie With Husband, Steve   \n",
       "82222                         Tim   \n",
       "75803                     Stephen   \n",
       "46139                       Jenny   \n",
       "\n",
       "                                                comments  \n",
       "26068  Jeanie is awesome and her place is incredibly ...  \n",
       "61007  We thoroughly enjoyed Paul And Terry's beautif...  \n",
       "82222  My family came to visit me so I booked them a ...  \n",
       "75803  I stayed with Lisa for around 3 weeks. She was...  \n",
       "46139  Chad and Ruben were fabulous hosts.  The room ...  "
      ]
     },
     "execution_count": 17,
     "metadata": {},
     "output_type": "execute_result"
    }
   ],
   "source": [
    "dfRevClean.sample(5)"
   ]
  },
  {
   "cell_type": "markdown",
   "metadata": {},
   "source": [
    "In the analyze of the clean data I was able to come up with three questions that I feel interesting in finding out on airbnb listing"
   ]
  },
  {
   "cell_type": "markdown",
   "metadata": {},
   "source": [
    "# Evaluation"
   ]
  },
  {
   "cell_type": "markdown",
   "metadata": {},
   "source": [
    "# Question 1: Does holidays affect Airbnb prices?"
   ]
  },
  {
   "cell_type": "markdown",
   "metadata": {},
   "source": [
    "Here I will transform the date data to soemething helpful in processing the data for my calculation and for the plot"
   ]
  },
  {
   "cell_type": "code",
   "execution_count": 18,
   "metadata": {},
   "outputs": [],
   "source": [
    "import datetime\n",
    "dfCalClean['date'] = pd.to_datetime(dfCalClean['date'])"
   ]
  },
  {
   "cell_type": "markdown",
   "metadata": {},
   "source": [
    "In this step, im trying to clean up the price column values by removing the special characters and converting the values type. With that I am able to set up my analysis"
   ]
  },
  {
   "cell_type": "code",
   "execution_count": 19,
   "metadata": {},
   "outputs": [],
   "source": [
    "dfCalClean['price'] = dfCalClean['price'].str.replace('$', '')\n",
    "dfCalClean['price'] = dfCalClean['price'].str.replace(',', '')\n",
    "dfCalClean['price'] = dfCalClean['price'].astype(float).astype(int)"
   ]
  },
  {
   "cell_type": "code",
   "execution_count": 20,
   "metadata": {},
   "outputs": [
    {
     "name": "stdout",
     "output_type": "stream",
     "text": [
      "<class 'pandas.core.frame.DataFrame'>\n",
      "Int64Index: 934542 entries, 0 to 1393213\n",
      "Data columns (total 4 columns):\n",
      " #   Column      Non-Null Count   Dtype         \n",
      "---  ------      --------------   -----         \n",
      " 0   listing_id  934542 non-null  int64         \n",
      " 1   date        934542 non-null  datetime64[ns]\n",
      " 2   available   934542 non-null  object        \n",
      " 3   price       934542 non-null  int32         \n",
      "dtypes: datetime64[ns](1), int32(1), int64(1), object(1)\n",
      "memory usage: 32.1+ MB\n"
     ]
    }
   ],
   "source": [
    "dfCalClean.info()"
   ]
  },
  {
   "cell_type": "markdown",
   "metadata": {},
   "source": [
    "Here im trying to get the mean value of the prices by gouping with the date column. With this Im getting an avg of the price with the date to import into a plot."
   ]
  },
  {
   "cell_type": "code",
   "execution_count": 21,
   "metadata": {},
   "outputs": [
    {
     "name": "stdout",
     "output_type": "stream",
     "text": [
      "date\n",
      "2016-07-01    157.480000\n",
      "2016-07-02    157.080967\n",
      "2016-07-09    156.448161\n",
      "2016-07-15    156.365385\n",
      "2016-07-08    156.260469\n",
      "Name: price, dtype: float64\n"
     ]
    }
   ],
   "source": [
    "priceAVG = dfCalClean.groupby(['date'])['price'].mean()\n",
    "priceAVG = priceAVG.sort_values(ascending=False)\n",
    "print(priceAVG.head())"
   ]
  },
  {
   "cell_type": "markdown",
   "metadata": {},
   "source": [
    "Here with my data cleaning and setting up the mean for the prices value, I set up a plot for a better approach."
   ]
  },
  {
   "cell_type": "code",
   "execution_count": 22,
   "metadata": {},
   "outputs": [
    {
     "data": {
      "image/png": "[encoded data removed]",
      "text/plain": [
       "<Figure size 2000x1600 with 1 Axes>"
      ]
     },
     "metadata": {
      "needs_background": "light"
     },
     "output_type": "display_data"
    }
   ],
   "source": [
    "plt.figure(figsize=(10,8), dpi=200)\n",
    "plt.bar(priceAVG.index, priceAVG)\n",
    "plt.show()"
   ]
  },
  {
   "cell_type": "markdown",
   "metadata": {},
   "source": [
    "Here we can see that in the summer the prices of the airbnb listings are high. For just 2016 we can see the peeck being in the summer months of june to early September where the prices are dropping."
   ]
  },
  {
   "cell_type": "markdown",
   "metadata": {},
   "source": [
    "# Question 2: Does property type affect the price for a listing?"
   ]
  },
  {
   "cell_type": "markdown",
   "metadata": {},
   "source": [
    "Here Ill be doing the same what I did before in cleaning up the price value in the columns for a better experience in using the data."
   ]
  },
  {
   "cell_type": "code",
   "execution_count": 23,
   "metadata": {},
   "outputs": [],
   "source": [
    "dfListClean['price'] = dfListClean['price'].str.replace('$', '')\n",
    "dfListClean['price'] = dfListClean['price'].str.replace(',', '')\n",
    "dfListClean['price'] = dfListClean['price'].astype(float).astype(int)"
   ]
  },
  {
   "cell_type": "code",
   "execution_count": 24,
   "metadata": {},
   "outputs": [
    {
     "name": "stdout",
     "output_type": "stream",
     "text": [
      "property_type\n",
      "Boat           357.000000\n",
      "Condominium    148.884058\n",
      "Loft           137.588235\n",
      "House          130.521828\n",
      "Treehouse      124.000000\n",
      "Name: price, dtype: float64\n"
     ]
    }
   ],
   "source": [
    "priceAVGList = dfListClean.groupby(['property_type'])['price'].mean()\n",
    "priceAVGList = priceAVGList.sort_values(ascending=False)\n",
    "print(priceAVGList.head())"
   ]
  },
  {
   "cell_type": "markdown",
   "metadata": {},
   "source": [
    "In this example I'm looking at the proberty type with the price. I wanted to see if the proberty type does affect the price."
   ]
  },
  {
   "cell_type": "code",
   "execution_count": 25,
   "metadata": {},
   "outputs": [
    {
     "data": {
      "image/png": "[encoded data removed]",
      "text/plain": [
       "<Figure size 2000x1600 with 1 Axes>"
      ]
     },
     "metadata": {
      "needs_background": "light"
     },
     "output_type": "display_data"
    }
   ],
   "source": [
    "plt.figure(figsize=(10,8), dpi=200)\n",
    "plt.bar(priceAVGList.index, priceAVGList)\n",
    "plt.xticks(rotation=90)\n",
    "plt.show()"
   ]
  },
  {
   "cell_type": "markdown",
   "metadata": {},
   "source": [
    "In this barchart we can see theres a huge difference in price with the proberty. With sorting we can see that boats mean price is about 350 dollars and about half of that the condominium is about 150 dollars. So staying in a boat will cost you."
   ]
  },
  {
   "cell_type": "markdown",
   "metadata": {},
   "source": [
    "# Question 3: Does reviews cause which neighborhood will be rented out more?"
   ]
  },
  {
   "cell_type": "markdown",
   "metadata": {},
   "source": [
    "As before, ill be taking the mean of the reviews with the nieghborhood, to see any similaritys or differences in my plot."
   ]
  },
  {
   "cell_type": "code",
   "execution_count": 26,
   "metadata": {},
   "outputs": [
    {
     "name": "stdout",
     "output_type": "stream",
     "text": [
      "neighbourhood\n",
      "International District    106.571429\n",
      "South Delridge             66.714286\n",
      "Harrison/Denny-Blaine      55.000000\n",
      "Riverview                  48.375000\n",
      "Highland Park              46.100000\n",
      "Name: number_of_reviews, dtype: float64\n"
     ]
    }
   ],
   "source": [
    "priceAVGListNBH = dfListClean.groupby(['neighbourhood'])['number_of_reviews'].mean()\n",
    "priceAVGListNBH = priceAVGListNBH.sort_values(ascending=False)\n",
    "print(priceAVGListNBH.head())"
   ]
  },
  {
   "cell_type": "code",
   "execution_count": 27,
   "metadata": {},
   "outputs": [
    {
     "data": {
      "image/png": "[encoded data removed]",
      "text/plain": [
       "<Figure size 1008x504 with 1 Axes>"
      ]
     },
     "metadata": {
      "needs_background": "light"
     },
     "output_type": "display_data"
    }
   ],
   "source": [
    "plt.figure(figsize=(14,7))\n",
    "plt.bar(priceAVGListNBH.index, priceAVGListNBH)\n",
    "plt.xticks(rotation=90)\n",
    "plt.show()"
   ]
  },
  {
   "cell_type": "raw",
   "metadata": {},
   "source": [
    "From this graph we can see there's a huge difference in the number of reviews with the international District. With more reviews we see that alot of people stayed in this neighborhood."
   ]
  },
  {
   "cell_type": "markdown",
   "metadata": {},
   "source": [
    "## Blog link"
   ]
  },
  {
   "cell_type": "markdown",
   "metadata": {},
   "source": [
    "https://medium.com/@dmoreno757/how-does-an-airbnb-listing-affect-us-in-choosing-which-one-is-the-right-one-34688f0fc31c"
   ]
  },
  {
   "cell_type": "code",
   "execution_count": null,
   "metadata": {},
   "outputs": [],
   "source": []
  }
 ],
 "metadata": {
  "kernelspec": {
   "display_name": "Python 3",
   "language": "python",
   "name": "python3"
  },
  "language_info": {
   "codemirror_mode": {
    "name": "ipython",
    "version": 3
   },
   "file_extension": ".py",
   "mimetype": "text/x-python",
   "name": "python",
   "nbconvert_exporter": "python",
   "pygments_lexer": "ipython3",
   "version": "3.7.7"
  }
 },
 "nbformat": 4,
 "nbformat_minor": 4
}
